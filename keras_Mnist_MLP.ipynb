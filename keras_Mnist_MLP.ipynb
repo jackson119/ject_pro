{
  "nbformat": 4,
  "nbformat_minor": 0,
  "metadata": {
    "colab": {
      "name": "keras_Mnist_MLP.ipynb",
      "provenance": [],
      "collapsed_sections": [],
      "authorship_tag": "ABX9TyMwRItyIrGe9jRAWOoDAFcu",
      "include_colab_link": true
    },
    "kernelspec": {
      "name": "python3",
      "display_name": "Python 3"
    },
    "accelerator": "GPU"
  },
  "cells": [
    {
      "cell_type": "markdown",
      "metadata": {
        "id": "view-in-github",
        "colab_type": "text"
      },
      "source": [
        "<a href=\"https://colab.research.google.com/github/jackson119/ject_pro/blob/main/keras_Mnist_MLP.ipynb\" target=\"_parent\"><img src=\"https://colab.research.google.com/assets/colab-badge.svg\" alt=\"Open In Colab\"/></a>"
      ]
    },
    {
      "cell_type": "code",
      "metadata": {
        "colab": {
          "base_uri": "https://localhost:8080/"
        },
        "id": "lAV869tg1I83",
        "outputId": "2d13eaa4-9ce7-4a9e-fec8-d27daf3589f8"
      },
      "source": [
        "#%tensorflow_version 1.0\r\n",
        "#!pip install tensorflow==1.0.1"
      ],
      "execution_count": 1,
      "outputs": [
        {
          "output_type": "stream",
          "text": [
            "Collecting tensorflow==1.0.1\n",
            "\u001b[?25l  Downloading https://files.pythonhosted.org/packages/fd/1a/7935eb82b9a9b89a3a8ef7e54f7d538698c85d248d8bedb533eab5afd293/tensorflow-1.0.1-cp36-cp36m-manylinux1_x86_64.whl (44.5MB)\n",
            "\u001b[K     |████████████████████████████████| 44.5MB 66kB/s \n",
            "\u001b[?25hRequirement already satisfied: wheel>=0.26 in /usr/local/lib/python3.6/dist-packages (from tensorflow==1.0.1) (0.36.2)\n",
            "Requirement already satisfied: six>=1.10.0 in /usr/local/lib/python3.6/dist-packages (from tensorflow==1.0.1) (1.15.0)\n",
            "Requirement already satisfied: numpy>=1.11.0 in /usr/local/lib/python3.6/dist-packages (from tensorflow==1.0.1) (1.19.5)\n",
            "Requirement already satisfied: protobuf>=3.1.0 in /usr/local/lib/python3.6/dist-packages (from tensorflow==1.0.1) (3.12.4)\n",
            "Requirement already satisfied: setuptools in /usr/local/lib/python3.6/dist-packages (from protobuf>=3.1.0->tensorflow==1.0.1) (51.3.3)\n",
            "Installing collected packages: tensorflow\n",
            "  Found existing installation: tensorflow 2.4.0\n",
            "    Uninstalling tensorflow-2.4.0:\n",
            "      Successfully uninstalled tensorflow-2.4.0\n",
            "Successfully installed tensorflow-1.0.1\n"
          ],
          "name": "stdout"
        }
      ]
    },
    {
      "cell_type": "code",
      "metadata": {
        "colab": {
          "base_uri": "https://localhost:8080/"
        },
        "id": "522SNIJTCd-N",
        "outputId": "b4994c8f-4093-4bf1-efcf-5093a44cd3ab"
      },
      "source": [
        "#!pip install keras==2.0.2"
      ],
      "execution_count": 2,
      "outputs": [
        {
          "output_type": "stream",
          "text": [
            "Collecting keras==2.0.2\n",
            "\u001b[?25l  Downloading https://files.pythonhosted.org/packages/0f/00/ffbeaa7185c5e6ea49e982d804f7e388908916eceb2a8c8a9ed0bd5cf045/Keras-2.0.2.tar.gz (192kB)\n",
            "\r\u001b[K     |█▊                              | 10kB 21.7MB/s eta 0:00:01\r\u001b[K     |███▍                            | 20kB 15.7MB/s eta 0:00:01\r\u001b[K     |█████                           | 30kB 13.5MB/s eta 0:00:01\r\u001b[K     |██████▉                         | 40kB 12.6MB/s eta 0:00:01\r\u001b[K     |████████▌                       | 51kB 8.7MB/s eta 0:00:01\r\u001b[K     |██████████▏                     | 61kB 9.3MB/s eta 0:00:01\r\u001b[K     |████████████                    | 71kB 9.4MB/s eta 0:00:01\r\u001b[K     |█████████████▋                  | 81kB 10.4MB/s eta 0:00:01\r\u001b[K     |███████████████▎                | 92kB 9.5MB/s eta 0:00:01\r\u001b[K     |█████████████████               | 102kB 8.4MB/s eta 0:00:01\r\u001b[K     |██████████████████▊             | 112kB 8.4MB/s eta 0:00:01\r\u001b[K     |████████████████████▍           | 122kB 8.4MB/s eta 0:00:01\r\u001b[K     |██████████████████████          | 133kB 8.4MB/s eta 0:00:01\r\u001b[K     |███████████████████████▉        | 143kB 8.4MB/s eta 0:00:01\r\u001b[K     |█████████████████████████▌      | 153kB 8.4MB/s eta 0:00:01\r\u001b[K     |███████████████████████████▏    | 163kB 8.4MB/s eta 0:00:01\r\u001b[K     |████████████████████████████▉   | 174kB 8.4MB/s eta 0:00:01\r\u001b[K     |██████████████████████████████▋ | 184kB 8.4MB/s eta 0:00:01\r\u001b[K     |████████████████████████████████| 194kB 8.4MB/s \n",
            "\u001b[?25hRequirement already satisfied: theano in /usr/local/lib/python3.6/dist-packages (from keras==2.0.2) (1.0.5)\n",
            "Requirement already satisfied: pyyaml in /usr/local/lib/python3.6/dist-packages (from keras==2.0.2) (3.13)\n",
            "Requirement already satisfied: six in /usr/local/lib/python3.6/dist-packages (from keras==2.0.2) (1.15.0)\n",
            "Requirement already satisfied: numpy>=1.9.1 in /usr/local/lib/python3.6/dist-packages (from theano->keras==2.0.2) (1.19.5)\n",
            "Requirement already satisfied: scipy>=0.14 in /usr/local/lib/python3.6/dist-packages (from theano->keras==2.0.2) (1.4.1)\n",
            "Building wheels for collected packages: keras\n",
            "  Building wheel for keras (setup.py) ... \u001b[?25l\u001b[?25hdone\n",
            "  Created wheel for keras: filename=Keras-2.0.2-cp36-none-any.whl size=228896 sha256=a0feeff0db30740fe0b4c28c0b1ec3e958c7ccd7955ab21a4a7d7ce919a38790\n",
            "  Stored in directory: /root/.cache/pip/wheels/78/38/73/74028957a9c42049a56878c4bb8a2c732c3e205f599fb9b384\n",
            "Successfully built keras\n",
            "\u001b[31mERROR: textgenrnn 1.4.1 has requirement keras>=2.1.5, but you'll have keras 2.0.2 which is incompatible.\u001b[0m\n",
            "Installing collected packages: keras\n",
            "  Found existing installation: Keras 2.4.3\n",
            "    Uninstalling Keras-2.4.3:\n",
            "      Successfully uninstalled Keras-2.4.3\n",
            "Successfully installed keras-2.0.2\n"
          ],
          "name": "stdout"
        }
      ]
    },
    {
      "cell_type": "code",
      "metadata": {
        "colab": {
          "base_uri": "https://localhost:8080/",
          "height": 244
        },
        "id": "0rP1ThYi1V47",
        "outputId": "418996a6-3f2f-4c13-905e-0f795b63ba3b"
      },
      "source": [
        "import keras \r\n",
        "keras.__version__"
      ],
      "execution_count": 1,
      "outputs": [
        {
          "output_type": "stream",
          "text": [
            "Using TensorFlow backend.\n",
            "/usr/local/lib/python3.6/dist-packages/tensorflow/python/framework/dtypes.py:455: FutureWarning: Passing (type, 1) or '1type' as a synonym of type is deprecated; in a future version of numpy, it will be understood as (type, (1,)) / '(1,)type'.\n",
            "  _np_qint8 = np.dtype([(\"qint8\", np.int8, 1)])\n",
            "/usr/local/lib/python3.6/dist-packages/tensorflow/python/framework/dtypes.py:456: FutureWarning: Passing (type, 1) or '1type' as a synonym of type is deprecated; in a future version of numpy, it will be understood as (type, (1,)) / '(1,)type'.\n",
            "  _np_quint8 = np.dtype([(\"quint8\", np.uint8, 1)])\n",
            "/usr/local/lib/python3.6/dist-packages/tensorflow/python/framework/dtypes.py:457: FutureWarning: Passing (type, 1) or '1type' as a synonym of type is deprecated; in a future version of numpy, it will be understood as (type, (1,)) / '(1,)type'.\n",
            "  _np_qint16 = np.dtype([(\"qint16\", np.int16, 1)])\n",
            "/usr/local/lib/python3.6/dist-packages/tensorflow/python/framework/dtypes.py:458: FutureWarning: Passing (type, 1) or '1type' as a synonym of type is deprecated; in a future version of numpy, it will be understood as (type, (1,)) / '(1,)type'.\n",
            "  _np_quint16 = np.dtype([(\"quint16\", np.uint16, 1)])\n",
            "/usr/local/lib/python3.6/dist-packages/tensorflow/python/framework/dtypes.py:459: FutureWarning: Passing (type, 1) or '1type' as a synonym of type is deprecated; in a future version of numpy, it will be understood as (type, (1,)) / '(1,)type'.\n",
            "  _np_qint32 = np.dtype([(\"qint32\", np.int32, 1)])\n"
          ],
          "name": "stderr"
        },
        {
          "output_type": "execute_result",
          "data": {
            "application/vnd.google.colaboratory.intrinsic+json": {
              "type": "string"
            },
            "text/plain": [
              "'2.0.2'"
            ]
          },
          "metadata": {
            "tags": []
          },
          "execution_count": 1
        }
      ]
    },
    {
      "cell_type": "code",
      "metadata": {
        "id": "-czPMGQG1diP",
        "colab": {
          "base_uri": "https://localhost:8080/",
          "height": 34
        },
        "outputId": "80fa3e57-fd8f-45d3-87fc-b889076cbdca"
      },
      "source": [
        "import tensorflow as tf\r\n",
        "tf.__version__\r\n"
      ],
      "execution_count": 2,
      "outputs": [
        {
          "output_type": "execute_result",
          "data": {
            "application/vnd.google.colaboratory.intrinsic+json": {
              "type": "string"
            },
            "text/plain": [
              "'1.0.1'"
            ]
          },
          "metadata": {
            "tags": []
          },
          "execution_count": 2
        }
      ]
    },
    {
      "cell_type": "code",
      "metadata": {
        "id": "2QzYFJ4x46nK"
      },
      "source": [
        "import numpy as np\r\n",
        "import pandas as pd\r\n",
        "from keras.utils import np_utils #### Used to change the label to  one hot encoding.\r\n",
        "np.random.seed(10)               ### to ensure everytime  will give the same results\r\n",
        "from keras.datasets import mnist\r\n",
        "from matplotlib import pyplot as plt\r\n",
        "from keras.models import Sequential\r\n",
        "from keras.layers import Dense\r\n",
        "from keras.layers import Flatten"
      ],
      "execution_count": 3,
      "outputs": []
    },
    {
      "cell_type": "code",
      "metadata": {
        "id": "aDxCHaPv5AgT",
        "colab": {
          "base_uri": "https://localhost:8080/"
        },
        "outputId": "fa6b648b-0b89-4a05-c085-49b25b11e565"
      },
      "source": [
        "(x_train_image,y_train_label), \\\r\n",
        "(x_test_image,y_test_label)=mnist.load_data()\r\n"
      ],
      "execution_count": 4,
      "outputs": [
        {
          "output_type": "stream",
          "text": [
            "Downloading data from https://s3.amazonaws.com/img-datasets/mnist.npz\n"
          ],
          "name": "stdout"
        }
      ]
    },
    {
      "cell_type": "markdown",
      "metadata": {
        "id": "KhF2qAmT58CL"
      },
      "source": [
        "\r\n",
        "# **Read mnist dataset**"
      ]
    },
    {
      "cell_type": "code",
      "metadata": {
        "colab": {
          "base_uri": "https://localhost:8080/"
        },
        "id": "7oufKX_C6EuA",
        "outputId": "0d3d0bfe-62bb-4592-cfcf-db239f8c71f2"
      },
      "source": [
        "print('train data=',len(x_train_image))\r\n",
        "print('test data=',len(x_test_image))"
      ],
      "execution_count": 5,
      "outputs": [
        {
          "output_type": "stream",
          "text": [
            "train data= 60000\n",
            "test data= 10000\n"
          ],
          "name": "stdout"
        }
      ]
    },
    {
      "cell_type": "markdown",
      "metadata": {
        "id": "ZZ1_e1x06agB"
      },
      "source": [
        "### **Evaluate the shape of** **dataset**"
      ]
    },
    {
      "cell_type": "code",
      "metadata": {
        "colab": {
          "base_uri": "https://localhost:8080/"
        },
        "id": "G-Ah93Ha6SQn",
        "outputId": "bc95f020-595b-4311-f8db-c14da7645cd3"
      },
      "source": [
        "print('train data=',(x_train_image.shape))\r\n",
        "print('test data=',(y_train_label.shape))"
      ],
      "execution_count": 6,
      "outputs": [
        {
          "output_type": "stream",
          "text": [
            "train data= (60000, 28, 28)\n",
            "test data= (60000,)\n"
          ],
          "name": "stdout"
        }
      ]
    },
    {
      "cell_type": "code",
      "metadata": {
        "id": "kPYjTLoB6iXc"
      },
      "source": [
        "def plot_image(image):\r\n",
        "  fig=plt.gcf()\r\n",
        "  fig.set_size_inches(2,2)\r\n",
        "  plt.imshow(image,cmap='binary')\r\n",
        "  plt.show()"
      ],
      "execution_count": 7,
      "outputs": []
    },
    {
      "cell_type": "code",
      "metadata": {
        "colab": {
          "base_uri": "https://localhost:8080/"
        },
        "id": "8zXQw2rIw1v6",
        "outputId": "522e75c3-5e3c-400d-f610-954b0021483e"
      },
      "source": [
        "print(y_train_label)"
      ],
      "execution_count": 8,
      "outputs": [
        {
          "output_type": "stream",
          "text": [
            "[5 0 4 ... 5 6 8]\n"
          ],
          "name": "stdout"
        }
      ]
    },
    {
      "cell_type": "markdown",
      "metadata": {
        "id": "J6Gyj7nh9g7u"
      },
      "source": [
        "### Check for training  image datasets and training label datasets"
      ]
    },
    {
      "cell_type": "code",
      "metadata": {
        "id": "2MX866tu7Mor"
      },
      "source": [
        "def plot_images_labels_prediction(images,labels,prediction,idx,num=10):\r\n",
        "  fig=plt.gcf()\r\n",
        "  fig.set_size_inches(12,14)\r\n",
        "  if num>25:num=25          ### set the number to 25 if exceed it will set to 25\r\n",
        "  for i in range(0,num):\r\n",
        "    ax=plt.subplot(5,5,1+i)  ## increase by 1 everytime\r\n",
        "    ax.imshow(images[idx],cmap='binary') #### plot the graph\r\n",
        "    title='label='+str(labels[idx])      ####  set the title\r\n",
        "\r\n",
        "    if len(prediction)>0:\r\n",
        "      title+=\",predict=\"+str(prediction[idx])\r\n",
        "    ax.set_title(title,fontsize=10)\r\n",
        "    ax.set_xticks([]);ax.set_yticks([]) ### wont show the scale for x axis and y axis\r\n",
        "\r\n",
        "    idx+=1\r\n",
        "plt.show()"
      ],
      "execution_count": 9,
      "outputs": []
    },
    {
      "cell_type": "code",
      "metadata": {
        "colab": {
          "base_uri": "https://localhost:8080/",
          "height": 321
        },
        "id": "EwSeSqgm7PWy",
        "outputId": "6eac1e7f-c9f8-42e1-b41d-ad51a3f84233"
      },
      "source": [
        "plot_images_labels_prediction(x_train_image,y_train_label,[],0,10)"
      ],
      "execution_count": 10,
      "outputs": [
        {
          "output_type": "display_data",
          "data": {
            "image/png": "[encoded data removed]",
            "text/plain": [
              "<Figure size 864x1008 with 10 Axes>"
            ]
          },
          "metadata": {
            "tags": []
          }
        }
      ]
    },
    {
      "cell_type": "markdown",
      "metadata": {
        "id": "iLVHbqaOC3uB"
      },
      "source": [
        "### **multilayer perceptron data** **preprocessing** \r\n",
        "\r\n",
        "---\r\n",
        "\r\n",
        "> Indented block\r\n",
        "\r\n",
        "1.   convert to float. \r\n",
        "2.   divide by 255 to increase the accuracy.\r\n",
        "\r\n",
        "\r\n",
        "\r\n",
        "\r\n",
        "\r\n"
      ]
    },
    {
      "cell_type": "code",
      "metadata": {
        "colab": {
          "base_uri": "https://localhost:8080/"
        },
        "id": "D24gXPVq_5OV",
        "outputId": "e2c44ffc-049a-4404-c0aa-7d35d2b92d19"
      },
      "source": [
        "print('x_train.image',x_train_image.shape)\r\n",
        "print('y_train_label',y_train_label.shape)"
      ],
      "execution_count": 11,
      "outputs": [
        {
          "output_type": "stream",
          "text": [
            "x_train.image (60000, 28, 28)\n",
            "y_train_label (60000,)\n"
          ],
          "name": "stdout"
        }
      ]
    },
    {
      "cell_type": "code",
      "metadata": {
        "id": "v8JqbQGlDMZ1"
      },
      "source": [
        "x_Train=x_train_image.reshape(60000,784).astype('float32')\r\n",
        "x_Test=x_test_image.reshape(10000,784).astype('float32')"
      ],
      "execution_count": 12,
      "outputs": []
    },
    {
      "cell_type": "code",
      "metadata": {
        "colab": {
          "base_uri": "https://localhost:8080/"
        },
        "id": "EBbkSViMDniv",
        "outputId": "ad65310e-0c1c-4b4b-81df-06060f9918a8"
      },
      "source": [
        "print('x_train',x_Train.shape)\r\n",
        "print('x_test',x_Test.shape)"
      ],
      "execution_count": 13,
      "outputs": [
        {
          "output_type": "stream",
          "text": [
            "x_train (60000, 784)\n",
            "x_test (10000, 784)\n"
          ],
          "name": "stdout"
        }
      ]
    },
    {
      "cell_type": "code",
      "metadata": {
        "id": "lwBUBdx5DlW5"
      },
      "source": [
        "x_Train_normalize=x_Train/255\r\n",
        "x_Test_normalize=x_Test/255"
      ],
      "execution_count": 14,
      "outputs": []
    },
    {
      "cell_type": "code",
      "metadata": {
        "colab": {
          "base_uri": "https://localhost:8080/"
        },
        "id": "l8rAE_gsGj2z",
        "outputId": "68d8a054-1631-4e27-e834-9bf6b7eb130c"
      },
      "source": [
        "x_Train_normalize[0]"
      ],
      "execution_count": 15,
      "outputs": [
        {
          "output_type": "execute_result",
          "data": {
            "text/plain": [
              "array([0.        , 0.        , 0.        , 0.        , 0.        ,\n",
              "       0.        , 0.        , 0.        , 0.        , 0.        ,\n",
              "       0.        , 0.        , 0.        , 0.        , 0.        ,\n",
              "       0.        , 0.        , 0.        , 0.        , 0.        ,\n",
              "       0.        , 0.        , 0.        , 0.        , 0.        ,\n",
              "       0.        , 0.        , 0.        , 0.        , 0.        ,\n",
              "       0.        , 0.        , 0.        , 0.        , 0.        ,\n",
              "       0.        , 0.        , 0.        , 0.        , 0.        ,\n",
              "       0.        , 0.        , 0.        , 0.        , 0.        ,\n",
              "       0.        , 0.        , 0.        , 0.        , 0.        ,\n",
              "       0.        , 0.        , 0.        , 0.        , 0.        ,\n",
              "       0.        , 0.        , 0.        , 0.        , 0.        ,\n",
              "       0.        , 0.        , 0.        , 0.        , 0.        ,\n",
              "       0.        , 0.        , 0.        , 0.        , 0.        ,\n",
              "       0.        , 0.        , 0.        , 0.        , 0.        ,\n",
              "       0.        , 0.        , 0.        , 0.        , 0.        ,\n",
              "       0.        , 0.        , 0.        , 0.        , 0.        ,\n",
              "       0.        , 0.        , 0.        , 0.        , 0.        ,\n",
              "       0.        , 0.        , 0.        , 0.        , 0.        ,\n",
              "       0.        , 0.        , 0.        , 0.        , 0.        ,\n",
              "       0.        , 0.        , 0.        , 0.        , 0.        ,\n",
              "       0.        , 0.        , 0.        , 0.        , 0.        ,\n",
              "       0.        , 0.        , 0.        , 0.        , 0.        ,\n",
              "       0.        , 0.        , 0.        , 0.        , 0.        ,\n",
              "       0.        , 0.        , 0.        , 0.        , 0.        ,\n",
              "       0.        , 0.        , 0.        , 0.        , 0.        ,\n",
              "       0.        , 0.        , 0.        , 0.        , 0.        ,\n",
              "       0.        , 0.        , 0.        , 0.        , 0.        ,\n",
              "       0.        , 0.        , 0.        , 0.        , 0.        ,\n",
              "       0.        , 0.        , 0.        , 0.        , 0.        ,\n",
              "       0.        , 0.        , 0.01176471, 0.07058824, 0.07058824,\n",
              "       0.07058824, 0.49411765, 0.53333336, 0.6862745 , 0.10196079,\n",
              "       0.6509804 , 1.        , 0.96862745, 0.49803922, 0.        ,\n",
              "       0.        , 0.        , 0.        , 0.        , 0.        ,\n",
              "       0.        , 0.        , 0.        , 0.        , 0.        ,\n",
              "       0.        , 0.11764706, 0.14117648, 0.36862746, 0.6039216 ,\n",
              "       0.6666667 , 0.99215686, 0.99215686, 0.99215686, 0.99215686,\n",
              "       0.99215686, 0.88235295, 0.6745098 , 0.99215686, 0.9490196 ,\n",
              "       0.7647059 , 0.2509804 , 0.        , 0.        , 0.        ,\n",
              "       0.        , 0.        , 0.        , 0.        , 0.        ,\n",
              "       0.        , 0.        , 0.        , 0.19215687, 0.93333334,\n",
              "       0.99215686, 0.99215686, 0.99215686, 0.99215686, 0.99215686,\n",
              "       0.99215686, 0.99215686, 0.99215686, 0.9843137 , 0.3647059 ,\n",
              "       0.32156864, 0.32156864, 0.21960784, 0.15294118, 0.        ,\n",
              "       0.        , 0.        , 0.        , 0.        , 0.        ,\n",
              "       0.        , 0.        , 0.        , 0.        , 0.        ,\n",
              "       0.        , 0.07058824, 0.85882354, 0.99215686, 0.99215686,\n",
              "       0.99215686, 0.99215686, 0.99215686, 0.7764706 , 0.7137255 ,\n",
              "       0.96862745, 0.94509804, 0.        , 0.        , 0.        ,\n",
              "       0.        , 0.        , 0.        , 0.        , 0.        ,\n",
              "       0.        , 0.        , 0.        , 0.        , 0.        ,\n",
              "       0.        , 0.        , 0.        , 0.        , 0.        ,\n",
              "       0.3137255 , 0.6117647 , 0.41960785, 0.99215686, 0.99215686,\n",
              "       0.8039216 , 0.04313726, 0.        , 0.16862746, 0.6039216 ,\n",
              "       0.        , 0.        , 0.        , 0.        , 0.        ,\n",
              "       0.        , 0.        , 0.        , 0.        , 0.        ,\n",
              "       0.        , 0.        , 0.        , 0.        , 0.        ,\n",
              "       0.        , 0.        , 0.        , 0.        , 0.05490196,\n",
              "       0.00392157, 0.6039216 , 0.99215686, 0.3529412 , 0.        ,\n",
              "       0.        , 0.        , 0.        , 0.        , 0.        ,\n",
              "       0.        , 0.        , 0.        , 0.        , 0.        ,\n",
              "       0.        , 0.        , 0.        , 0.        , 0.        ,\n",
              "       0.        , 0.        , 0.        , 0.        , 0.        ,\n",
              "       0.        , 0.        , 0.        , 0.        , 0.54509807,\n",
              "       0.99215686, 0.74509805, 0.00784314, 0.        , 0.        ,\n",
              "       0.        , 0.        , 0.        , 0.        , 0.        ,\n",
              "       0.        , 0.        , 0.        , 0.        , 0.        ,\n",
              "       0.        , 0.        , 0.        , 0.        , 0.        ,\n",
              "       0.        , 0.        , 0.        , 0.        , 0.        ,\n",
              "       0.        , 0.        , 0.04313726, 0.74509805, 0.99215686,\n",
              "       0.27450982, 0.        , 0.        , 0.        , 0.        ,\n",
              "       0.        , 0.        , 0.        , 0.        , 0.        ,\n",
              "       0.        , 0.        , 0.        , 0.        , 0.        ,\n",
              "       0.        , 0.        , 0.        , 0.        , 0.        ,\n",
              "       0.        , 0.        , 0.        , 0.        , 0.        ,\n",
              "       0.        , 0.13725491, 0.94509804, 0.88235295, 0.627451  ,\n",
              "       0.42352942, 0.00392157, 0.        , 0.        , 0.        ,\n",
              "       0.        , 0.        , 0.        , 0.        , 0.        ,\n",
              "       0.        , 0.        , 0.        , 0.        , 0.        ,\n",
              "       0.        , 0.        , 0.        , 0.        , 0.        ,\n",
              "       0.        , 0.        , 0.        , 0.        , 0.        ,\n",
              "       0.31764707, 0.9411765 , 0.99215686, 0.99215686, 0.46666667,\n",
              "       0.09803922, 0.        , 0.        , 0.        , 0.        ,\n",
              "       0.        , 0.        , 0.        , 0.        , 0.        ,\n",
              "       0.        , 0.        , 0.        , 0.        , 0.        ,\n",
              "       0.        , 0.        , 0.        , 0.        , 0.        ,\n",
              "       0.        , 0.        , 0.        , 0.        , 0.1764706 ,\n",
              "       0.7294118 , 0.99215686, 0.99215686, 0.5882353 , 0.10588235,\n",
              "       0.        , 0.        , 0.        , 0.        , 0.        ,\n",
              "       0.        , 0.        , 0.        , 0.        , 0.        ,\n",
              "       0.        , 0.        , 0.        , 0.        , 0.        ,\n",
              "       0.        , 0.        , 0.        , 0.        , 0.        ,\n",
              "       0.        , 0.        , 0.        , 0.0627451 , 0.3647059 ,\n",
              "       0.9882353 , 0.99215686, 0.73333335, 0.        , 0.        ,\n",
              "       0.        , 0.        , 0.        , 0.        , 0.        ,\n",
              "       0.        , 0.        , 0.        , 0.        , 0.        ,\n",
              "       0.        , 0.        , 0.        , 0.        , 0.        ,\n",
              "       0.        , 0.        , 0.        , 0.        , 0.        ,\n",
              "       0.        , 0.        , 0.        , 0.9764706 , 0.99215686,\n",
              "       0.9764706 , 0.2509804 , 0.        , 0.        , 0.        ,\n",
              "       0.        , 0.        , 0.        , 0.        , 0.        ,\n",
              "       0.        , 0.        , 0.        , 0.        , 0.        ,\n",
              "       0.        , 0.        , 0.        , 0.        , 0.        ,\n",
              "       0.        , 0.        , 0.        , 0.18039216, 0.50980395,\n",
              "       0.7176471 , 0.99215686, 0.99215686, 0.8117647 , 0.00784314,\n",
              "       0.        , 0.        , 0.        , 0.        , 0.        ,\n",
              "       0.        , 0.        , 0.        , 0.        , 0.        ,\n",
              "       0.        , 0.        , 0.        , 0.        , 0.        ,\n",
              "       0.        , 0.        , 0.        , 0.        , 0.15294118,\n",
              "       0.5803922 , 0.8980392 , 0.99215686, 0.99215686, 0.99215686,\n",
              "       0.98039216, 0.7137255 , 0.        , 0.        , 0.        ,\n",
              "       0.        , 0.        , 0.        , 0.        , 0.        ,\n",
              "       0.        , 0.        , 0.        , 0.        , 0.        ,\n",
              "       0.        , 0.        , 0.        , 0.        , 0.        ,\n",
              "       0.09411765, 0.44705883, 0.8666667 , 0.99215686, 0.99215686,\n",
              "       0.99215686, 0.99215686, 0.7882353 , 0.30588236, 0.        ,\n",
              "       0.        , 0.        , 0.        , 0.        , 0.        ,\n",
              "       0.        , 0.        , 0.        , 0.        , 0.        ,\n",
              "       0.        , 0.        , 0.        , 0.        , 0.        ,\n",
              "       0.        , 0.09019608, 0.25882354, 0.8352941 , 0.99215686,\n",
              "       0.99215686, 0.99215686, 0.99215686, 0.7764706 , 0.31764707,\n",
              "       0.00784314, 0.        , 0.        , 0.        , 0.        ,\n",
              "       0.        , 0.        , 0.        , 0.        , 0.        ,\n",
              "       0.        , 0.        , 0.        , 0.        , 0.        ,\n",
              "       0.        , 0.        , 0.07058824, 0.67058825, 0.85882354,\n",
              "       0.99215686, 0.99215686, 0.99215686, 0.99215686, 0.7647059 ,\n",
              "       0.3137255 , 0.03529412, 0.        , 0.        , 0.        ,\n",
              "       0.        , 0.        , 0.        , 0.        , 0.        ,\n",
              "       0.        , 0.        , 0.        , 0.        , 0.        ,\n",
              "       0.        , 0.        , 0.        , 0.21568628, 0.6745098 ,\n",
              "       0.8862745 , 0.99215686, 0.99215686, 0.99215686, 0.99215686,\n",
              "       0.95686275, 0.52156866, 0.04313726, 0.        , 0.        ,\n",
              "       0.        , 0.        , 0.        , 0.        , 0.        ,\n",
              "       0.        , 0.        , 0.        , 0.        , 0.        ,\n",
              "       0.        , 0.        , 0.        , 0.        , 0.        ,\n",
              "       0.        , 0.53333336, 0.99215686, 0.99215686, 0.99215686,\n",
              "       0.83137256, 0.5294118 , 0.5176471 , 0.0627451 , 0.        ,\n",
              "       0.        , 0.        , 0.        , 0.        , 0.        ,\n",
              "       0.        , 0.        , 0.        , 0.        , 0.        ,\n",
              "       0.        , 0.        , 0.        , 0.        , 0.        ,\n",
              "       0.        , 0.        , 0.        , 0.        , 0.        ,\n",
              "       0.        , 0.        , 0.        , 0.        , 0.        ,\n",
              "       0.        , 0.        , 0.        , 0.        , 0.        ,\n",
              "       0.        , 0.        , 0.        , 0.        , 0.        ,\n",
              "       0.        , 0.        , 0.        , 0.        , 0.        ,\n",
              "       0.        , 0.        , 0.        , 0.        , 0.        ,\n",
              "       0.        , 0.        , 0.        , 0.        , 0.        ,\n",
              "       0.        , 0.        , 0.        , 0.        , 0.        ,\n",
              "       0.        , 0.        , 0.        , 0.        , 0.        ,\n",
              "       0.        , 0.        , 0.        , 0.        , 0.        ,\n",
              "       0.        , 0.        , 0.        , 0.        , 0.        ,\n",
              "       0.        , 0.        , 0.        , 0.        , 0.        ,\n",
              "       0.        , 0.        , 0.        , 0.        , 0.        ,\n",
              "       0.        , 0.        , 0.        , 0.        , 0.        ,\n",
              "       0.        , 0.        , 0.        , 0.        , 0.        ,\n",
              "       0.        , 0.        , 0.        , 0.        , 0.        ,\n",
              "       0.        , 0.        , 0.        , 0.        ], dtype=float32)"
            ]
          },
          "metadata": {
            "tags": []
          },
          "execution_count": 15
        }
      ]
    },
    {
      "cell_type": "markdown",
      "metadata": {
        "id": "XcdPe2sGGawU"
      },
      "source": [
        "### preprocessing the label data\r\n",
        "\r\n",
        "label will be convert into one hot encoding"
      ]
    },
    {
      "cell_type": "code",
      "metadata": {
        "colab": {
          "base_uri": "https://localhost:8080/"
        },
        "id": "qaYFqgpDGHYx",
        "outputId": "7f1b7565-b726-453c-ec9b-ab961d4cd91a"
      },
      "source": [
        "y_train_label[:5]"
      ],
      "execution_count": 16,
      "outputs": [
        {
          "output_type": "execute_result",
          "data": {
            "text/plain": [
              "array([5, 0, 4, 1, 9], dtype=uint8)"
            ]
          },
          "metadata": {
            "tags": []
          },
          "execution_count": 16
        }
      ]
    },
    {
      "cell_type": "code",
      "metadata": {
        "id": "nXeToxGIGUEU"
      },
      "source": [
        "y_TrainOneHot=np_utils.to_categorical(y_train_label)\r\n",
        "y_TestOneHot=np_utils.to_categorical(y_test_label)"
      ],
      "execution_count": 17,
      "outputs": []
    },
    {
      "cell_type": "code",
      "metadata": {
        "colab": {
          "base_uri": "https://localhost:8080/"
        },
        "id": "uludbD_gG_fM",
        "outputId": "53af64a6-933b-4611-a08a-7c6a824fcdc8"
      },
      "source": [
        "y_TestOneHot[:5]"
      ],
      "execution_count": 18,
      "outputs": [
        {
          "output_type": "execute_result",
          "data": {
            "text/plain": [
              "array([[0., 0., 0., 0., 0., 0., 0., 1., 0., 0.],\n",
              "       [0., 0., 1., 0., 0., 0., 0., 0., 0., 0.],\n",
              "       [0., 1., 0., 0., 0., 0., 0., 0., 0., 0.],\n",
              "       [1., 0., 0., 0., 0., 0., 0., 0., 0., 0.],\n",
              "       [0., 0., 0., 0., 1., 0., 0., 0., 0., 0.]])"
            ]
          },
          "metadata": {
            "tags": []
          },
          "execution_count": 18
        }
      ]
    },
    {
      "cell_type": "markdown",
      "metadata": {
        "id": "PQU_RJorIa9j"
      },
      "source": [
        "### define training process and started to train."
      ]
    },
    {
      "cell_type": "code",
      "metadata": {
        "id": "2Iq0SndoHB_m"
      },
      "source": [
        "model=Sequential()"
      ],
      "execution_count": 19,
      "outputs": []
    },
    {
      "cell_type": "code",
      "metadata": {
        "id": "PhntECyCIVPh"
      },
      "source": [
        "model.add(Dense(units=256,input_dim=784,kernel_initializer='normal',activation='relu'))"
      ],
      "execution_count": 20,
      "outputs": []
    },
    {
      "cell_type": "code",
      "metadata": {
        "id": "ypasZ3QoIn_d"
      },
      "source": [
        "model.add(Dense(units=10,kernel_initializer='normal',activation='softmax'))"
      ],
      "execution_count": 21,
      "outputs": []
    },
    {
      "cell_type": "code",
      "metadata": {
        "colab": {
          "base_uri": "https://localhost:8080/"
        },
        "id": "RNIul-uqI9sY",
        "outputId": "26dc5970-ad15-4f7a-c806-723badd2674a"
      },
      "source": [
        "print(model.summary())"
      ],
      "execution_count": 22,
      "outputs": [
        {
          "output_type": "stream",
          "text": [
            "_________________________________________________________________\n",
            "Layer (type)                 Output Shape              Param #   \n",
            "=================================================================\n",
            "dense_1 (Dense)              (None, 256)               200960    \n",
            "_________________________________________________________________\n",
            "dense_2 (Dense)              (None, 10)                2570      \n",
            "=================================================================\n",
            "Total params: 203,530.0\n",
            "Trainable params: 203,530\n",
            "Non-trainable params: 0.0\n",
            "_________________________________________________________________\n",
            "None\n"
          ],
          "name": "stdout"
        }
      ]
    },
    {
      "cell_type": "code",
      "metadata": {
        "id": "RVHM8_h2JAML"
      },
      "source": [
        "model.compile(loss='categorical_crossentropy',optimizer='adam',metrics=['accuracy'])"
      ],
      "execution_count": 23,
      "outputs": []
    },
    {
      "cell_type": "code",
      "metadata": {
        "colab": {
          "base_uri": "https://localhost:8080/"
        },
        "id": "ZPBjJrMYJfpm",
        "outputId": "cf870987-a60d-4aa2-a92c-3d6b623e30ce"
      },
      "source": [
        "train_history=model.fit(x=x_Train_normalize,y=y_TrainOneHot,validation_split=0.2,epochs=10,batch_size=200,verbose=2)"
      ],
      "execution_count": 24,
      "outputs": [
        {
          "output_type": "stream",
          "text": [
            "Train on 48000 samples, validate on 12000 samples\n",
            "Epoch 1/10\n",
            "3s - loss: 0.4379 - acc: 0.8829 - val_loss: 0.2182 - val_acc: 0.9406\n",
            "Epoch 2/10\n",
            "3s - loss: 0.1910 - acc: 0.9456 - val_loss: 0.1554 - val_acc: 0.9558\n",
            "Epoch 3/10\n",
            "3s - loss: 0.1353 - acc: 0.9617 - val_loss: 0.1258 - val_acc: 0.9644\n",
            "Epoch 4/10\n",
            "3s - loss: 0.1025 - acc: 0.9704 - val_loss: 0.1117 - val_acc: 0.9683\n",
            "Epoch 5/10\n",
            "3s - loss: 0.0808 - acc: 0.9773 - val_loss: 0.0983 - val_acc: 0.9710\n",
            "Epoch 6/10\n",
            "3s - loss: 0.0660 - acc: 0.9818 - val_loss: 0.0935 - val_acc: 0.9723\n",
            "Epoch 7/10\n",
            "3s - loss: 0.0543 - acc: 0.9851 - val_loss: 0.0914 - val_acc: 0.9733\n",
            "Epoch 8/10\n",
            "3s - loss: 0.0460 - acc: 0.9876 - val_loss: 0.0835 - val_acc: 0.9760\n",
            "Epoch 9/10\n",
            "3s - loss: 0.0379 - acc: 0.9903 - val_loss: 0.0822 - val_acc: 0.9763\n",
            "Epoch 10/10\n",
            "3s - loss: 0.0315 - acc: 0.9917 - val_loss: 0.0805 - val_acc: 0.9762\n"
          ],
          "name": "stdout"
        }
      ]
    },
    {
      "cell_type": "code",
      "metadata": {
        "id": "S2vnhMxQJuNM"
      },
      "source": [
        "def show_train_history(train_history,train,validation):\r\n",
        "  plt.plot(train_history.history[train])\r\n",
        "  plt.plot(train_history.history[validation])\r\n",
        "  plt.title('Train History')\r\n",
        "  plt.ylabel('Train')\r\n",
        "  plt.xlabel('Epoch')\r\n",
        "  plt.legend(['train','validation'],loc='upper left')\r\n",
        "  plt.show()"
      ],
      "execution_count": 25,
      "outputs": []
    },
    {
      "cell_type": "code",
      "metadata": {
        "id": "nljJYqidh1WK",
        "colab": {
          "base_uri": "https://localhost:8080/",
          "height": 295
        },
        "outputId": "046000c5-2027-4c2d-a7c2-7d816c055a5e"
      },
      "source": [
        "show_train_history(train_history,'acc','val_acc')"
      ],
      "execution_count": 26,
      "outputs": [
        {
          "output_type": "display_data",
          "data": {
            "image/png": "[encoded data removed]",
            "text/plain": [
              "<Figure size 432x288 with 1 Axes>"
            ]
          },
          "metadata": {
            "tags": [],
            "needs_background": "light"
          }
        }
      ]
    },
    {
      "cell_type": "code",
      "metadata": {
        "colab": {
          "base_uri": "https://localhost:8080/"
        },
        "id": "5SusLpBFl1pM",
        "outputId": "e6dc0acb-7194-4046-c8e2-a546b7778af3"
      },
      "source": [
        "scores=model.evaluate(x_Test_normalize,y_TestOneHot,verbose=2)\r\n",
        "print('scores=',scores[1])"
      ],
      "execution_count": 27,
      "outputs": [
        {
          "output_type": "stream",
          "text": [
            "scores= 0.9764\n"
          ],
          "name": "stdout"
        }
      ]
    },
    {
      "cell_type": "code",
      "metadata": {
        "colab": {
          "base_uri": "https://localhost:8080/"
        },
        "id": "zMtpD76wq3nt",
        "outputId": "70ef9608-109b-4f1d-c70e-5b39dd8cfb84"
      },
      "source": [
        "prediction=model.predict_classes(x_Test)"
      ],
      "execution_count": 28,
      "outputs": [
        {
          "output_type": "stream",
          "text": [
            " 9184/10000 [==========================>...] - ETA: 0s"
          ],
          "name": "stdout"
        }
      ]
    },
    {
      "cell_type": "code",
      "metadata": {
        "colab": {
          "base_uri": "https://localhost:8080/"
        },
        "id": "k-FZb8DPrdGB",
        "outputId": "5d001f5d-c2d4-4e84-946e-44423f52f80d"
      },
      "source": [
        "prediction"
      ],
      "execution_count": 29,
      "outputs": [
        {
          "output_type": "execute_result",
          "data": {
            "text/plain": [
              "array([7, 2, 1, ..., 4, 5, 6])"
            ]
          },
          "metadata": {
            "tags": []
          },
          "execution_count": 29
        }
      ]
    },
    {
      "cell_type": "code",
      "metadata": {
        "colab": {
          "base_uri": "https://localhost:8080/",
          "height": 321
        },
        "id": "lDS9VL3qthAV",
        "outputId": "be76b47e-264b-4e9c-a7db-301ee766324c"
      },
      "source": [
        "plot_images_labels_prediction(x_test_image,y_test_label,prediction,idx=340)"
      ],
      "execution_count": 30,
      "outputs": [
        {
          "output_type": "display_data",
          "data": {
            "image/png": "[encoded data removed]",
            "text/plain": [
              "<Figure size 864x1008 with 10 Axes>"
            ]
          },
          "metadata": {
            "tags": []
          }
        }
      ]
    },
    {
      "cell_type": "code",
      "metadata": {
        "colab": {
          "base_uri": "https://localhost:8080/",
          "height": 379
        },
        "id": "KVhgEajEtsz_",
        "outputId": "b9efd804-b6a8-4015-88b9-9bf009d0a3a4"
      },
      "source": [
        "import pandas as pd\r\n",
        "pd.crosstab(y_test_label,prediction,\r\n",
        "            rownames=['label'],colnames=['predict'])"
      ],
      "execution_count": 31,
      "outputs": [
        {
          "output_type": "execute_result",
          "data": {
            "text/html": [
              "<div>\n",
              "<style scoped>\n",
              "    .dataframe tbody tr th:only-of-type {\n",
              "        vertical-align: middle;\n",
              "    }\n",
              "\n",
              "    .dataframe tbody tr th {\n",
              "        vertical-align: top;\n",
              "    }\n",
              "\n",
              "    .dataframe thead th {\n",
              "        text-align: right;\n",
              "    }\n",
              "</style>\n",
              "<table border=\"1\" class=\"dataframe\">\n",
              "  <thead>\n",
              "    <tr style=\"text-align: right;\">\n",
              "      <th>predict</th>\n",
              "      <th>0</th>\n",
              "      <th>1</th>\n",
              "      <th>2</th>\n",
              "      <th>3</th>\n",
              "      <th>4</th>\n",
              "      <th>5</th>\n",
              "      <th>6</th>\n",
              "      <th>7</th>\n",
              "      <th>8</th>\n",
              "      <th>9</th>\n",
              "    </tr>\n",
              "    <tr>\n",
              "      <th>label</th>\n",
              "      <th></th>\n",
              "      <th></th>\n",
              "      <th></th>\n",
              "      <th></th>\n",
              "      <th></th>\n",
              "      <th></th>\n",
              "      <th></th>\n",
              "      <th></th>\n",
              "      <th></th>\n",
              "      <th></th>\n",
              "    </tr>\n",
              "  </thead>\n",
              "  <tbody>\n",
              "    <tr>\n",
              "      <th>0</th>\n",
              "      <td>971</td>\n",
              "      <td>0</td>\n",
              "      <td>1</td>\n",
              "      <td>1</td>\n",
              "      <td>1</td>\n",
              "      <td>0</td>\n",
              "      <td>2</td>\n",
              "      <td>1</td>\n",
              "      <td>3</td>\n",
              "      <td>0</td>\n",
              "    </tr>\n",
              "    <tr>\n",
              "      <th>1</th>\n",
              "      <td>0</td>\n",
              "      <td>1124</td>\n",
              "      <td>4</td>\n",
              "      <td>0</td>\n",
              "      <td>0</td>\n",
              "      <td>1</td>\n",
              "      <td>2</td>\n",
              "      <td>0</td>\n",
              "      <td>4</td>\n",
              "      <td>0</td>\n",
              "    </tr>\n",
              "    <tr>\n",
              "      <th>2</th>\n",
              "      <td>5</td>\n",
              "      <td>0</td>\n",
              "      <td>1009</td>\n",
              "      <td>2</td>\n",
              "      <td>1</td>\n",
              "      <td>0</td>\n",
              "      <td>2</td>\n",
              "      <td>5</td>\n",
              "      <td>8</td>\n",
              "      <td>0</td>\n",
              "    </tr>\n",
              "    <tr>\n",
              "      <th>3</th>\n",
              "      <td>0</td>\n",
              "      <td>0</td>\n",
              "      <td>5</td>\n",
              "      <td>989</td>\n",
              "      <td>0</td>\n",
              "      <td>2</td>\n",
              "      <td>0</td>\n",
              "      <td>4</td>\n",
              "      <td>6</td>\n",
              "      <td>4</td>\n",
              "    </tr>\n",
              "    <tr>\n",
              "      <th>4</th>\n",
              "      <td>2</td>\n",
              "      <td>0</td>\n",
              "      <td>5</td>\n",
              "      <td>1</td>\n",
              "      <td>960</td>\n",
              "      <td>0</td>\n",
              "      <td>3</td>\n",
              "      <td>0</td>\n",
              "      <td>3</td>\n",
              "      <td>8</td>\n",
              "    </tr>\n",
              "    <tr>\n",
              "      <th>5</th>\n",
              "      <td>3</td>\n",
              "      <td>0</td>\n",
              "      <td>0</td>\n",
              "      <td>15</td>\n",
              "      <td>1</td>\n",
              "      <td>854</td>\n",
              "      <td>7</td>\n",
              "      <td>1</td>\n",
              "      <td>8</td>\n",
              "      <td>3</td>\n",
              "    </tr>\n",
              "    <tr>\n",
              "      <th>6</th>\n",
              "      <td>5</td>\n",
              "      <td>3</td>\n",
              "      <td>3</td>\n",
              "      <td>1</td>\n",
              "      <td>3</td>\n",
              "      <td>3</td>\n",
              "      <td>938</td>\n",
              "      <td>0</td>\n",
              "      <td>2</td>\n",
              "      <td>0</td>\n",
              "    </tr>\n",
              "    <tr>\n",
              "      <th>7</th>\n",
              "      <td>0</td>\n",
              "      <td>5</td>\n",
              "      <td>12</td>\n",
              "      <td>6</td>\n",
              "      <td>1</td>\n",
              "      <td>0</td>\n",
              "      <td>0</td>\n",
              "      <td>989</td>\n",
              "      <td>6</td>\n",
              "      <td>9</td>\n",
              "    </tr>\n",
              "    <tr>\n",
              "      <th>8</th>\n",
              "      <td>4</td>\n",
              "      <td>0</td>\n",
              "      <td>3</td>\n",
              "      <td>5</td>\n",
              "      <td>2</td>\n",
              "      <td>1</td>\n",
              "      <td>1</td>\n",
              "      <td>2</td>\n",
              "      <td>955</td>\n",
              "      <td>1</td>\n",
              "    </tr>\n",
              "    <tr>\n",
              "      <th>9</th>\n",
              "      <td>3</td>\n",
              "      <td>5</td>\n",
              "      <td>0</td>\n",
              "      <td>11</td>\n",
              "      <td>8</td>\n",
              "      <td>2</td>\n",
              "      <td>1</td>\n",
              "      <td>4</td>\n",
              "      <td>4</td>\n",
              "      <td>971</td>\n",
              "    </tr>\n",
              "  </tbody>\n",
              "</table>\n",
              "</div>"
            ],
            "text/plain": [
              "predict    0     1     2    3    4    5    6    7    8    9\n",
              "label                                                      \n",
              "0        971     0     1    1    1    0    2    1    3    0\n",
              "1          0  1124     4    0    0    1    2    0    4    0\n",
              "2          5     0  1009    2    1    0    2    5    8    0\n",
              "3          0     0     5  989    0    2    0    4    6    4\n",
              "4          2     0     5    1  960    0    3    0    3    8\n",
              "5          3     0     0   15    1  854    7    1    8    3\n",
              "6          5     3     3    1    3    3  938    0    2    0\n",
              "7          0     5    12    6    1    0    0  989    6    9\n",
              "8          4     0     3    5    2    1    1    2  955    1\n",
              "9          3     5     0   11    8    2    1    4    4  971"
            ]
          },
          "metadata": {
            "tags": []
          },
          "execution_count": 31
        }
      ]
    },
    {
      "cell_type": "code",
      "metadata": {
        "id": "nHs0NcBJxPzG"
      },
      "source": [
        "df=pd.DataFrame({'label':y_test_label,'predict':prediction})"
      ],
      "execution_count": 32,
      "outputs": []
    },
    {
      "cell_type": "code",
      "metadata": {
        "colab": {
          "base_uri": "https://localhost:8080/",
          "height": 379
        },
        "id": "7GIz3P1DyNG9",
        "outputId": "905c7119-9bf0-4305-9e2f-19672acc216d"
      },
      "source": [
        "df[:11]"
      ],
      "execution_count": 33,
      "outputs": [
        {
          "output_type": "execute_result",
          "data": {
            "text/html": [
              "<div>\n",
              "<style scoped>\n",
              "    .dataframe tbody tr th:only-of-type {\n",
              "        vertical-align: middle;\n",
              "    }\n",
              "\n",
              "    .dataframe tbody tr th {\n",
              "        vertical-align: top;\n",
              "    }\n",
              "\n",
              "    .dataframe thead th {\n",
              "        text-align: right;\n",
              "    }\n",
              "</style>\n",
              "<table border=\"1\" class=\"dataframe\">\n",
              "  <thead>\n",
              "    <tr style=\"text-align: right;\">\n",
              "      <th></th>\n",
              "      <th>label</th>\n",
              "      <th>predict</th>\n",
              "    </tr>\n",
              "  </thead>\n",
              "  <tbody>\n",
              "    <tr>\n",
              "      <th>0</th>\n",
              "      <td>7</td>\n",
              "      <td>7</td>\n",
              "    </tr>\n",
              "    <tr>\n",
              "      <th>1</th>\n",
              "      <td>2</td>\n",
              "      <td>2</td>\n",
              "    </tr>\n",
              "    <tr>\n",
              "      <th>2</th>\n",
              "      <td>1</td>\n",
              "      <td>1</td>\n",
              "    </tr>\n",
              "    <tr>\n",
              "      <th>3</th>\n",
              "      <td>0</td>\n",
              "      <td>0</td>\n",
              "    </tr>\n",
              "    <tr>\n",
              "      <th>4</th>\n",
              "      <td>4</td>\n",
              "      <td>4</td>\n",
              "    </tr>\n",
              "    <tr>\n",
              "      <th>5</th>\n",
              "      <td>1</td>\n",
              "      <td>1</td>\n",
              "    </tr>\n",
              "    <tr>\n",
              "      <th>6</th>\n",
              "      <td>4</td>\n",
              "      <td>4</td>\n",
              "    </tr>\n",
              "    <tr>\n",
              "      <th>7</th>\n",
              "      <td>9</td>\n",
              "      <td>9</td>\n",
              "    </tr>\n",
              "    <tr>\n",
              "      <th>8</th>\n",
              "      <td>5</td>\n",
              "      <td>5</td>\n",
              "    </tr>\n",
              "    <tr>\n",
              "      <th>9</th>\n",
              "      <td>9</td>\n",
              "      <td>9</td>\n",
              "    </tr>\n",
              "    <tr>\n",
              "      <th>10</th>\n",
              "      <td>0</td>\n",
              "      <td>0</td>\n",
              "    </tr>\n",
              "  </tbody>\n",
              "</table>\n",
              "</div>"
            ],
            "text/plain": [
              "    label  predict\n",
              "0       7        7\n",
              "1       2        2\n",
              "2       1        1\n",
              "3       0        0\n",
              "4       4        4\n",
              "5       1        1\n",
              "6       4        4\n",
              "7       9        9\n",
              "8       5        5\n",
              "9       9        9\n",
              "10      0        0"
            ]
          },
          "metadata": {
            "tags": []
          },
          "execution_count": 33
        }
      ]
    },
    {
      "cell_type": "code",
      "metadata": {
        "colab": {
          "base_uri": "https://localhost:8080/",
          "height": 499
        },
        "id": "uR-4bJDDyQbt",
        "outputId": "783e0e05-1ea4-4df6-b8b7-becc4ae244ca"
      },
      "source": [
        "df[(df.label==5)&(df.predict==3)]"
      ],
      "execution_count": 34,
      "outputs": [
        {
          "output_type": "execute_result",
          "data": {
            "text/html": [
              "<div>\n",
              "<style scoped>\n",
              "    .dataframe tbody tr th:only-of-type {\n",
              "        vertical-align: middle;\n",
              "    }\n",
              "\n",
              "    .dataframe tbody tr th {\n",
              "        vertical-align: top;\n",
              "    }\n",
              "\n",
              "    .dataframe thead th {\n",
              "        text-align: right;\n",
              "    }\n",
              "</style>\n",
              "<table border=\"1\" class=\"dataframe\">\n",
              "  <thead>\n",
              "    <tr style=\"text-align: right;\">\n",
              "      <th></th>\n",
              "      <th>label</th>\n",
              "      <th>predict</th>\n",
              "    </tr>\n",
              "  </thead>\n",
              "  <tbody>\n",
              "    <tr>\n",
              "      <th>340</th>\n",
              "      <td>5</td>\n",
              "      <td>3</td>\n",
              "    </tr>\n",
              "    <tr>\n",
              "      <th>1003</th>\n",
              "      <td>5</td>\n",
              "      <td>3</td>\n",
              "    </tr>\n",
              "    <tr>\n",
              "      <th>1393</th>\n",
              "      <td>5</td>\n",
              "      <td>3</td>\n",
              "    </tr>\n",
              "    <tr>\n",
              "      <th>2035</th>\n",
              "      <td>5</td>\n",
              "      <td>3</td>\n",
              "    </tr>\n",
              "    <tr>\n",
              "      <th>2526</th>\n",
              "      <td>5</td>\n",
              "      <td>3</td>\n",
              "    </tr>\n",
              "    <tr>\n",
              "      <th>2597</th>\n",
              "      <td>5</td>\n",
              "      <td>3</td>\n",
              "    </tr>\n",
              "    <tr>\n",
              "      <th>2810</th>\n",
              "      <td>5</td>\n",
              "      <td>3</td>\n",
              "    </tr>\n",
              "    <tr>\n",
              "      <th>3117</th>\n",
              "      <td>5</td>\n",
              "      <td>3</td>\n",
              "    </tr>\n",
              "    <tr>\n",
              "      <th>4271</th>\n",
              "      <td>5</td>\n",
              "      <td>3</td>\n",
              "    </tr>\n",
              "    <tr>\n",
              "      <th>4355</th>\n",
              "      <td>5</td>\n",
              "      <td>3</td>\n",
              "    </tr>\n",
              "    <tr>\n",
              "      <th>4360</th>\n",
              "      <td>5</td>\n",
              "      <td>3</td>\n",
              "    </tr>\n",
              "    <tr>\n",
              "      <th>5937</th>\n",
              "      <td>5</td>\n",
              "      <td>3</td>\n",
              "    </tr>\n",
              "    <tr>\n",
              "      <th>5972</th>\n",
              "      <td>5</td>\n",
              "      <td>3</td>\n",
              "    </tr>\n",
              "    <tr>\n",
              "      <th>6028</th>\n",
              "      <td>5</td>\n",
              "      <td>3</td>\n",
              "    </tr>\n",
              "    <tr>\n",
              "      <th>6043</th>\n",
              "      <td>5</td>\n",
              "      <td>3</td>\n",
              "    </tr>\n",
              "  </tbody>\n",
              "</table>\n",
              "</div>"
            ],
            "text/plain": [
              "      label  predict\n",
              "340       5        3\n",
              "1003      5        3\n",
              "1393      5        3\n",
              "2035      5        3\n",
              "2526      5        3\n",
              "2597      5        3\n",
              "2810      5        3\n",
              "3117      5        3\n",
              "4271      5        3\n",
              "4355      5        3\n",
              "4360      5        3\n",
              "5937      5        3\n",
              "5972      5        3\n",
              "6028      5        3\n",
              "6043      5        3"
            ]
          },
          "metadata": {
            "tags": []
          },
          "execution_count": 34
        }
      ]
    },
    {
      "cell_type": "code",
      "metadata": {
        "colab": {
          "base_uri": "https://localhost:8080/",
          "height": 164
        },
        "id": "u6Jn5VH_yr-D",
        "outputId": "d3c04310-34dd-4cc4-f489-83e1e46c8570"
      },
      "source": [
        "plot_images_labels_prediction(x_test_image,y_test_label,prediction,idx=340,num=1)"
      ],
      "execution_count": 35,
      "outputs": [
        {
          "output_type": "display_data",
          "data": {
            "image/png": "[encoded data removed]",
            "text/plain": [
              "<Figure size 864x1008 with 1 Axes>"
            ]
          },
          "metadata": {
            "tags": []
          }
        }
      ]
    },
    {
      "cell_type": "markdown",
      "metadata": {
        "id": "uDrU1bbY1NGf"
      },
      "source": [
        "#### Adding 1000 hidden layer into the neural network"
      ]
    },
    {
      "cell_type": "code",
      "metadata": {
        "id": "L__RdIm1zS92"
      },
      "source": [
        "model=Sequential()"
      ],
      "execution_count": 36,
      "outputs": []
    },
    {
      "cell_type": "code",
      "metadata": {
        "id": "okars8PX1Vm5"
      },
      "source": [
        "model.add(Dense(units=1000,input_dim=784,kernel_initializer='normal',activation='relu'))"
      ],
      "execution_count": 37,
      "outputs": []
    },
    {
      "cell_type": "code",
      "metadata": {
        "id": "3T9Vx5yH3hN7"
      },
      "source": [
        "model.add(Dense(units=10,kernel_initializer='normal',activation='softmax'))"
      ],
      "execution_count": 38,
      "outputs": []
    },
    {
      "cell_type": "code",
      "metadata": {
        "colab": {
          "base_uri": "https://localhost:8080/"
        },
        "id": "5F1E3mJy3vU4",
        "outputId": "6a714a85-d0fb-41ae-8b33-e718bb068843"
      },
      "source": [
        "print(model.summary())"
      ],
      "execution_count": 39,
      "outputs": [
        {
          "output_type": "stream",
          "text": [
            "_________________________________________________________________\n",
            "Layer (type)                 Output Shape              Param #   \n",
            "=================================================================\n",
            "dense_3 (Dense)              (None, 1000)              785000    \n",
            "_________________________________________________________________\n",
            "dense_4 (Dense)              (None, 10)                10010     \n",
            "=================================================================\n",
            "Total params: 795,010.0\n",
            "Trainable params: 795,010\n",
            "Non-trainable params: 0.0\n",
            "_________________________________________________________________\n",
            "None\n"
          ],
          "name": "stdout"
        }
      ]
    },
    {
      "cell_type": "code",
      "metadata": {
        "id": "rf8qDHMJ3xio"
      },
      "source": [
        "model.compile(loss='categorical_crossentropy',optimizer='adam',metrics=['accuracy'])"
      ],
      "execution_count": 40,
      "outputs": []
    },
    {
      "cell_type": "code",
      "metadata": {
        "colab": {
          "base_uri": "https://localhost:8080/"
        },
        "id": "zb1Afnv44B9g",
        "outputId": "5bbb5a81-4fbd-43e4-91ae-aa650df28b6a"
      },
      "source": [
        "train_histrory=model.fit(x_Train_normalize,y_TrainOneHot,validation_split=0.20,epochs=10,batch_size=200,verbose=2)"
      ],
      "execution_count": 41,
      "outputs": [
        {
          "output_type": "stream",
          "text": [
            "Train on 48000 samples, validate on 12000 samples\n",
            "Epoch 1/10\n",
            "12s - loss: 0.2904 - acc: 0.9166 - val_loss: 0.1534 - val_acc: 0.9565\n",
            "Epoch 2/10\n",
            "12s - loss: 0.1150 - acc: 0.9674 - val_loss: 0.1214 - val_acc: 0.9640\n",
            "Epoch 3/10\n",
            "12s - loss: 0.0736 - acc: 0.9792 - val_loss: 0.0918 - val_acc: 0.9730\n",
            "Epoch 4/10\n",
            "12s - loss: 0.0520 - acc: 0.9854 - val_loss: 0.0817 - val_acc: 0.9750\n",
            "Epoch 5/10\n",
            "12s - loss: 0.0358 - acc: 0.9905 - val_loss: 0.0832 - val_acc: 0.9751\n",
            "Epoch 6/10\n",
            "12s - loss: 0.0248 - acc: 0.9939 - val_loss: 0.0745 - val_acc: 0.9780\n",
            "Epoch 7/10\n",
            "12s - loss: 0.0183 - acc: 0.9956 - val_loss: 0.0730 - val_acc: 0.9773\n",
            "Epoch 8/10\n",
            "12s - loss: 0.0135 - acc: 0.9969 - val_loss: 0.0757 - val_acc: 0.9783\n",
            "Epoch 9/10\n",
            "12s - loss: 0.0099 - acc: 0.9981 - val_loss: 0.0722 - val_acc: 0.9792\n",
            "Epoch 10/10\n",
            "12s - loss: 0.0069 - acc: 0.9990 - val_loss: 0.0791 - val_acc: 0.9772\n"
          ],
          "name": "stdout"
        }
      ]
    },
    {
      "cell_type": "code",
      "metadata": {
        "colab": {
          "base_uri": "https://localhost:8080/",
          "height": 295
        },
        "id": "W_N1a0Qd4k2h",
        "outputId": "73b16811-aebe-4b02-ebe4-b0df5893c746"
      },
      "source": [
        "show_train_history(train_histrory,'acc','val_acc')"
      ],
      "execution_count": 42,
      "outputs": [
        {
          "output_type": "display_data",
          "data": {
            "image/png": "[encoded data removed]",
            "text/plain": [
              "<Figure size 432x288 with 1 Axes>"
            ]
          },
          "metadata": {
            "tags": [],
            "needs_background": "light"
          }
        }
      ]
    },
    {
      "cell_type": "code",
      "metadata": {
        "colab": {
          "base_uri": "https://localhost:8080/"
        },
        "id": "ajnp1KY15T13",
        "outputId": "2885b272-83d8-46df-e78d-517601d988c3"
      },
      "source": [
        "evaluation=model.evaluate(x_Test_normalize,y_TestOneHot)\r\n",
        "print()\r\n",
        "print('evaluation accuracy',evaluation[1])"
      ],
      "execution_count": 43,
      "outputs": [
        {
          "output_type": "stream",
          "text": [
            " 9952/10000 [============================>.] - ETA: 0s\n",
            "evaluation accuracy 0.9801\n"
          ],
          "name": "stdout"
        }
      ]
    },
    {
      "cell_type": "markdown",
      "metadata": {
        "id": "Ui9-CQk25qxT"
      },
      "source": [
        "#### Adding dropout parameter in multilayer perceptron"
      ]
    },
    {
      "cell_type": "code",
      "metadata": {
        "id": "31Zhjfl65qmH"
      },
      "source": [
        "from keras.models import Sequential\r\n",
        "from keras.layers import Dense\r\n",
        "from keras.layers import Dropout\r\n"
      ],
      "execution_count": 44,
      "outputs": []
    },
    {
      "cell_type": "code",
      "metadata": {
        "id": "yh_gvtECwnRW"
      },
      "source": [
        "model=Sequential()"
      ],
      "execution_count": 45,
      "outputs": []
    },
    {
      "cell_type": "code",
      "metadata": {
        "id": "0InY8mKc5gZm"
      },
      "source": [
        "model.add(Dense(units=1000,input_dim=784,kernel_initializer='normal',activation='relu'))"
      ],
      "execution_count": 46,
      "outputs": []
    },
    {
      "cell_type": "code",
      "metadata": {
        "id": "uusB1JRN6fFx"
      },
      "source": [
        "model.add(Dense(units=10,kernel_initializer='normal',activation='softmax'))"
      ],
      "execution_count": 47,
      "outputs": []
    },
    {
      "cell_type": "code",
      "metadata": {
        "colab": {
          "base_uri": "https://localhost:8080/"
        },
        "id": "DA-x923W7Ib-",
        "outputId": "63462cdd-30d9-4c0f-be06-2417fc2a6726"
      },
      "source": [
        "print(model.summary())"
      ],
      "execution_count": 48,
      "outputs": [
        {
          "output_type": "stream",
          "text": [
            "_________________________________________________________________\n",
            "Layer (type)                 Output Shape              Param #   \n",
            "=================================================================\n",
            "dense_5 (Dense)              (None, 1000)              785000    \n",
            "_________________________________________________________________\n",
            "dense_6 (Dense)              (None, 10)                10010     \n",
            "=================================================================\n",
            "Total params: 795,010.0\n",
            "Trainable params: 795,010\n",
            "Non-trainable params: 0.0\n",
            "_________________________________________________________________\n",
            "None\n"
          ],
          "name": "stdout"
        }
      ]
    },
    {
      "cell_type": "code",
      "metadata": {
        "id": "sjgbkBAMwuWE"
      },
      "source": [
        "model.compile(loss='categorical_crossentropy',optimizer='adam',metrics=['accuracy'])"
      ],
      "execution_count": 49,
      "outputs": []
    },
    {
      "cell_type": "code",
      "metadata": {
        "colab": {
          "base_uri": "https://localhost:8080/"
        },
        "id": "8gXfjRhX7Lpi",
        "outputId": "36490a52-140e-43d6-9ab9-6d807b6fe6e6"
      },
      "source": [
        "train_history=model.fit(x_Train_normalize,y_TrainOneHot,validation_split=0.20,epochs=10,batch_size=200,verbose=2)"
      ],
      "execution_count": 50,
      "outputs": [
        {
          "output_type": "stream",
          "text": [
            "Train on 48000 samples, validate on 12000 samples\n",
            "Epoch 1/10\n",
            "12s - loss: 0.2915 - acc: 0.9164 - val_loss: 0.1539 - val_acc: 0.9549\n",
            "Epoch 2/10\n",
            "12s - loss: 0.1161 - acc: 0.9669 - val_loss: 0.1106 - val_acc: 0.9670\n",
            "Epoch 3/10\n",
            "12s - loss: 0.0727 - acc: 0.9790 - val_loss: 0.0901 - val_acc: 0.9737\n",
            "Epoch 4/10\n",
            "12s - loss: 0.0505 - acc: 0.9854 - val_loss: 0.0783 - val_acc: 0.9766\n",
            "Epoch 5/10\n",
            "12s - loss: 0.0359 - acc: 0.9901 - val_loss: 0.0771 - val_acc: 0.9764\n",
            "Epoch 6/10\n",
            "12s - loss: 0.0247 - acc: 0.9938 - val_loss: 0.0799 - val_acc: 0.9759\n",
            "Epoch 7/10\n",
            "12s - loss: 0.0186 - acc: 0.9956 - val_loss: 0.0751 - val_acc: 0.9773\n",
            "Epoch 8/10\n",
            "12s - loss: 0.0126 - acc: 0.9975 - val_loss: 0.0763 - val_acc: 0.9768\n",
            "Epoch 9/10\n",
            "12s - loss: 0.0095 - acc: 0.9981 - val_loss: 0.0685 - val_acc: 0.9794\n",
            "Epoch 10/10\n",
            "12s - loss: 0.0060 - acc: 0.9992 - val_loss: 0.0691 - val_acc: 0.9803\n"
          ],
          "name": "stdout"
        }
      ]
    },
    {
      "cell_type": "code",
      "metadata": {
        "id": "48jAZ0pC8Smd",
        "colab": {
          "base_uri": "https://localhost:8080/",
          "height": 295
        },
        "outputId": "04db6207-c3bd-4b6a-cb4d-f5da033545cf"
      },
      "source": [
        "show_train_history(train_history,'acc','val_acc')"
      ],
      "execution_count": 51,
      "outputs": [
        {
          "output_type": "display_data",
          "data": {
            "image/png": "[encoded data removed]",
            "text/plain": [
              "<Figure size 432x288 with 1 Axes>"
            ]
          },
          "metadata": {
            "tags": [],
            "needs_background": "light"
          }
        }
      ]
    },
    {
      "cell_type": "code",
      "metadata": {
        "colab": {
          "base_uri": "https://localhost:8080/"
        },
        "id": "1dnpmimnwMi6",
        "outputId": "62830e42-f705-4dd8-85bd-78d9b82e15c1"
      },
      "source": [
        "scores_add=model.evaluate(x_Test_normalize,y_TestOneHot)\r\n",
        "print()\r\n",
        "print('accuracy=',scores[1])"
      ],
      "execution_count": 52,
      "outputs": [
        {
          "output_type": "stream",
          "text": [
            " 9888/10000 [============================>.] - ETA: 0s\n",
            "accuracy= 0.9764\n"
          ],
          "name": "stdout"
        }
      ]
    },
    {
      "cell_type": "markdown",
      "metadata": {
        "id": "ny2O0jBIzSO0"
      },
      "source": [
        "### Adding two more hidden layers into multi layer perceptron."
      ]
    },
    {
      "cell_type": "code",
      "metadata": {
        "id": "zZUJzDn2x2du"
      },
      "source": [
        "model=Sequential()"
      ],
      "execution_count": 53,
      "outputs": []
    },
    {
      "cell_type": "code",
      "metadata": {
        "id": "WTWYLih3zdm3"
      },
      "source": [
        "model.add(Dense(units=1000,input_dim=784,kernel_initializer='normal',activation='relu'))\r\n",
        "model.add(Dropout(0.5))"
      ],
      "execution_count": 54,
      "outputs": []
    },
    {
      "cell_type": "code",
      "metadata": {
        "id": "I4THQ4pjzsBX"
      },
      "source": [
        "model.add(Dense(units=1000,kernel_initializer='normal',activation='relu'))\r\n",
        "model.add(Dropout(0.5))"
      ],
      "execution_count": 55,
      "outputs": []
    },
    {
      "cell_type": "code",
      "metadata": {
        "id": "Ox_ljfEJz9z4"
      },
      "source": [
        "model.add(Dense(units=10,kernel_initializer='normal',activation='softmax'))"
      ],
      "execution_count": 56,
      "outputs": []
    },
    {
      "cell_type": "code",
      "metadata": {
        "colab": {
          "base_uri": "https://localhost:8080/"
        },
        "id": "kkEkO6Zq0GFJ",
        "outputId": "6c945d80-1c10-4a53-a95d-8006cb057bdf"
      },
      "source": [
        "print(model.summary())"
      ],
      "execution_count": 57,
      "outputs": [
        {
          "output_type": "stream",
          "text": [
            "_________________________________________________________________\n",
            "Layer (type)                 Output Shape              Param #   \n",
            "=================================================================\n",
            "dense_7 (Dense)              (None, 1000)              785000    \n",
            "_________________________________________________________________\n",
            "dropout_1 (Dropout)          (None, 1000)              0         \n",
            "_________________________________________________________________\n",
            "dense_8 (Dense)              (None, 1000)              1001000   \n",
            "_________________________________________________________________\n",
            "dropout_2 (Dropout)          (None, 1000)              0         \n",
            "_________________________________________________________________\n",
            "dense_9 (Dense)              (None, 10)                10010     \n",
            "=================================================================\n",
            "Total params: 1,796,010.0\n",
            "Trainable params: 1,796,010.0\n",
            "Non-trainable params: 0.0\n",
            "_________________________________________________________________\n",
            "None\n"
          ],
          "name": "stdout"
        }
      ]
    },
    {
      "cell_type": "code",
      "metadata": {
        "id": "vqwJinwZ0HkN"
      },
      "source": [
        "model.compile(loss='categorical_crossentropy',optimizer='adam',metrics=['accuracy'])"
      ],
      "execution_count": 58,
      "outputs": []
    },
    {
      "cell_type": "code",
      "metadata": {
        "colab": {
          "base_uri": "https://localhost:8080/"
        },
        "id": "DCZyVo8U0LXW",
        "outputId": "8540e93f-98ab-45e6-b11d-196a9a3003fd"
      },
      "source": [
        "train_history=model.fit(x_Train_normalize,y_TrainOneHot,validation_split=0.20,epochs=10,batch_size=200,verbose=2)"
      ],
      "execution_count": 59,
      "outputs": [
        {
          "output_type": "stream",
          "text": [
            "Train on 48000 samples, validate on 12000 samples\n",
            "Epoch 1/10\n",
            "31s - loss: 0.3739 - acc: 0.8831 - val_loss: 0.1323 - val_acc: 0.9603\n",
            "Epoch 2/10\n",
            "31s - loss: 0.1606 - acc: 0.9501 - val_loss: 0.1006 - val_acc: 0.9693\n",
            "Epoch 3/10\n",
            "31s - loss: 0.1201 - acc: 0.9625 - val_loss: 0.0936 - val_acc: 0.9728\n",
            "Epoch 4/10\n",
            "31s - loss: 0.0970 - acc: 0.9697 - val_loss: 0.0792 - val_acc: 0.9763\n",
            "Epoch 5/10\n",
            "31s - loss: 0.0841 - acc: 0.9734 - val_loss: 0.0767 - val_acc: 0.9768\n",
            "Epoch 6/10\n",
            "31s - loss: 0.0750 - acc: 0.9763 - val_loss: 0.0769 - val_acc: 0.9771\n",
            "Epoch 7/10\n",
            "32s - loss: 0.0655 - acc: 0.9790 - val_loss: 0.0775 - val_acc: 0.9791\n",
            "Epoch 8/10\n",
            "32s - loss: 0.0623 - acc: 0.9798 - val_loss: 0.0709 - val_acc: 0.9807\n",
            "Epoch 9/10\n",
            "31s - loss: 0.0550 - acc: 0.9824 - val_loss: 0.0735 - val_acc: 0.9797\n",
            "Epoch 10/10\n",
            "31s - loss: 0.0509 - acc: 0.9833 - val_loss: 0.0715 - val_acc: 0.9798\n"
          ],
          "name": "stdout"
        }
      ]
    },
    {
      "cell_type": "code",
      "metadata": {
        "colab": {
          "base_uri": "https://localhost:8080/",
          "height": 295
        },
        "id": "l3eCzJNG0ONS",
        "outputId": "ba40c313-8ba8-436a-fa66-dc629809dcf3"
      },
      "source": [
        "show_train_history(train_history,'acc','val_acc')"
      ],
      "execution_count": 60,
      "outputs": [
        {
          "output_type": "display_data",
          "data": {
            "image/png": "[encoded data removed]",
            "text/plain": [
              "<Figure size 432x288 with 1 Axes>"
            ]
          },
          "metadata": {
            "tags": [],
            "needs_background": "light"
          }
        }
      ]
    },
    {
      "cell_type": "code",
      "metadata": {
        "colab": {
          "base_uri": "https://localhost:8080/"
        },
        "id": "8XaRa5v-0YDm",
        "outputId": "d539a7cb-711c-4ad0-ad92-0cac87c6e092"
      },
      "source": [
        "scores_add_two=model.evaluate(x_Test_normalize,y_TestOneHot)\r\n",
        "print()\r\n",
        "print('accuracy=',scores[1])"
      ],
      "execution_count": 62,
      "outputs": [
        {
          "output_type": "stream",
          "text": [
            " 9952/10000 [============================>.] - ETA: 0s\n",
            "accuracy= 0.9764\n"
          ],
          "name": "stdout"
        }
      ]
    },
    {
      "cell_type": "code",
      "metadata": {
        "id": "p3Pmev9a1bW9"
      },
      "source": [
        ""
      ],
      "execution_count": null,
      "outputs": []
    }
  ]
}